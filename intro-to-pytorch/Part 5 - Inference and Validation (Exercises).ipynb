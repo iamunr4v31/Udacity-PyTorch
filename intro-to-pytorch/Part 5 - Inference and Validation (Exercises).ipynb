{
 "cells": [
  {
   "cell_type": "markdown",
   "metadata": {},
   "source": [
    "# Inference and Validation\n",
    "\n",
    "Now that you have a trained network, you can use it for making predictions. This is typically called **inference**, a term borrowed from statistics. However, neural networks have a tendency to perform *too well* on the training data and aren't able to generalize to data that hasn't been seen before. This is called **overfitting** and it impairs inference performance. To test for overfitting while training, we measure the performance on data not in the training set called the **validation** set. We avoid overfitting through regularization such as dropout while monitoring the validation performance during training. In this notebook, I'll show you how to do this in PyTorch. \n",
    "\n",
    "As usual, let's start by loading the dataset through torchvision. You'll learn more about torchvision and loading data in a later part. This time we'll be taking advantage of the test set which you can get by setting `train=False` here:\n",
    "\n",
    "```python\n",
    "testset = datasets.FashionMNIST('~/.pytorch/F_MNIST_data/', download=True, train=False, transform=transform)\n",
    "```\n",
    "\n",
    "The test set contains images just like the training set. Typically you'll see 10-20% of the original dataset held out for testing and validation with the rest being used for training."
   ]
  },
  {
   "cell_type": "code",
   "execution_count": 1,
   "metadata": {},
   "outputs": [
    {
     "name": "stderr",
     "output_type": "stream",
     "text": [
      "C:\\Users\\ashwi\\Anaconda3\\envs\\torch\\lib\\site-packages\\tqdm\\auto.py:22: TqdmWarning: IProgress not found. Please update jupyter and ipywidgets. See https://ipywidgets.readthedocs.io/en/stable/user_install.html\n",
      "  from .autonotebook import tqdm as notebook_tqdm\n"
     ]
    }
   ],
   "source": [
    "import torch\n",
    "from torchvision import datasets, transforms\n",
    "\n",
    "# Define a transform to normalize the data\n",
    "transform = transforms.Compose([transforms.ToTensor(),\n",
    "                                transforms.Normalize((0.5,), (0.5,))])\n",
    "# Download and load the training data\n",
    "trainset = datasets.FashionMNIST('~/.pytorch/F_MNIST_data/', download=True, train=True, transform=transform)\n",
    "trainloader = torch.utils.data.DataLoader(trainset, batch_size=64, shuffle=True)\n",
    "\n",
    "# Download and load the test data\n",
    "testset = datasets.FashionMNIST('~/.pytorch/F_MNIST_data/', download=True, train=False, transform=transform)\n",
    "testloader = torch.utils.data.DataLoader(testset, batch_size=64, shuffle=True)"
   ]
  },
  {
   "cell_type": "markdown",
   "metadata": {},
   "source": [
    "Here I'll create a model like normal, using the same one from my solution for part 4."
   ]
  },
  {
   "cell_type": "code",
   "execution_count": 2,
   "metadata": {},
   "outputs": [],
   "source": [
    "from torch import nn, optim\n",
    "import torch.nn.functional as F\n",
    "\n",
    "class Classifier(nn.Module):\n",
    "    def __init__(self):\n",
    "        super().__init__()\n",
    "        self.fc1 = nn.Linear(784, 256)\n",
    "        self.fc2 = nn.Linear(256, 128)\n",
    "        self.fc3 = nn.Linear(128, 64)\n",
    "        self.fc4 = nn.Linear(64, 10)\n",
    "        \n",
    "    def forward(self, x):\n",
    "        # make sure input tensor is flattened\n",
    "        x = x.view(x.shape[0], -1)\n",
    "        \n",
    "        x = F.relu(self.fc1(x))\n",
    "        x = F.relu(self.fc2(x))\n",
    "        x = F.relu(self.fc3(x))\n",
    "        x = F.log_softmax(self.fc4(x), dim=1)\n",
    "        \n",
    "        return x"
   ]
  },
  {
   "cell_type": "markdown",
   "metadata": {},
   "source": [
    "The goal of validation is to measure the model's performance on data that isn't part of the training set. Performance here is up to the developer to define though. Typically this is just accuracy, the percentage of classes the network predicted correctly. Other options are [precision and recall](https://en.wikipedia.org/wiki/Precision_and_recall#Definition_(classification_context)) and top-5 error rate. We'll focus on accuracy here. First I'll do a forward pass with one batch from the test set."
   ]
  },
  {
   "cell_type": "code",
   "execution_count": 3,
   "metadata": {},
   "outputs": [
    {
     "name": "stdout",
     "output_type": "stream",
     "text": [
      "torch.Size([64, 10])\n"
     ]
    }
   ],
   "source": [
    "model = Classifier()\n",
    "\n",
    "images, labels = next(iter(testloader))\n",
    "# Get the class probabilities\n",
    "ps = torch.exp(model(images))\n",
    "# Make sure the shape is appropriate, we should get 10 class probabilities for 64 examples\n",
    "print(ps.shape)"
   ]
  },
  {
   "cell_type": "markdown",
   "metadata": {},
   "source": [
    "With the probabilities, we can get the most likely class using the `ps.topk` method. This returns the $k$ highest values. Since we just want the most likely class, we can use `ps.topk(1)`. This returns a tuple of the top-$k$ values and the top-$k$ indices. If the highest value is the fifth element, we'll get back 4 as the index."
   ]
  },
  {
   "cell_type": "code",
   "execution_count": 6,
   "metadata": {},
   "outputs": [
    {
     "name": "stdout",
     "output_type": "stream",
     "text": [
      "tensor([[3],\n",
      "        [3],\n",
      "        [3],\n",
      "        [8],\n",
      "        [3],\n",
      "        [3],\n",
      "        [8],\n",
      "        [3],\n",
      "        [3],\n",
      "        [3]])\n"
     ]
    }
   ],
   "source": [
    "top_p, top_class = ps.topk(1, dim=1)\n",
    "# Look at the most likely classes for the first 10 examples\n",
    "print(top_class[:10,:])"
   ]
  },
  {
   "cell_type": "markdown",
   "metadata": {},
   "source": [
    "Now we can check if the predicted classes match the labels. This is simple to do by equating `top_class` and `labels`, but we have to be careful of the shapes. Here `top_class` is a 2D tensor with shape `(64, 1)` while `labels` is 1D with shape `(64)`. To get the equality to work out the way we want, `top_class` and `labels` must have the same shape.\n",
    "\n",
    "If we do\n",
    "\n",
    "```python\n",
    "equals = top_class == labels\n",
    "```\n",
    "\n",
    "`equals` will have shape `(64, 64)`, try it yourself. What it's doing is comparing the one element in each row of `top_class` with each element in `labels` which returns 64 True/False boolean values for each row."
   ]
  },
  {
   "cell_type": "code",
   "execution_count": 7,
   "metadata": {},
   "outputs": [],
   "source": [
    "equals = top_class == labels.view(*top_class.shape)"
   ]
  },
  {
   "cell_type": "markdown",
   "metadata": {},
   "source": [
    "Now we need to calculate the percentage of correct predictions. `equals` has binary values, either 0 or 1. This means that if we just sum up all the values and divide by the number of values, we get the percentage of correct predictions. This is the same operation as taking the mean, so we can get the accuracy with a call to `torch.mean`. If only it was that simple. If you try `torch.mean(equals)`, you'll get an error\n",
    "\n",
    "```\n",
    "RuntimeError: mean is not implemented for type torch.ByteTensor\n",
    "```\n",
    "\n",
    "This happens because `equals` has type `torch.ByteTensor` but `torch.mean` isn't implemented for tensors with that type. So we'll need to convert `equals` to a float tensor. Note that when we take `torch.mean` it returns a scalar tensor, to get the actual value as a float we'll need to do `accuracy.item()`."
   ]
  },
  {
   "cell_type": "code",
   "execution_count": 8,
   "metadata": {},
   "outputs": [
    {
     "name": "stdout",
     "output_type": "stream",
     "text": [
      "Accuracy: 9.375%\n"
     ]
    }
   ],
   "source": [
    "accuracy = torch.mean(equals.type(torch.FloatTensor))\n",
    "print(f'Accuracy: {accuracy.item()*100}%')"
   ]
  },
  {
   "cell_type": "markdown",
   "metadata": {},
   "source": [
    "The network is untrained so it's making random guesses and we should see an accuracy around 10%. Now let's train our network and include our validation pass so we can measure how well the network is performing on the test set. Since we're not updating our parameters in the validation pass, we can speed up our code by turning off gradients using `torch.no_grad()`:\n",
    "\n",
    "```python\n",
    "# turn off gradients\n",
    "with torch.no_grad():\n",
    "    # validation pass here\n",
    "    for images, labels in testloader:\n",
    "        ...\n",
    "```\n",
    "\n",
    ">**Exercise:** Implement the validation loop below and print out the total accuracy after the loop. You can largely copy and paste the code from above, but I suggest typing it in because writing it out yourself is essential for building the skill. In general you'll always learn more by typing it rather than copy-pasting. You should be able to get an accuracy above 80%."
   ]
  },
  {
   "cell_type": "code",
   "execution_count": 14,
   "metadata": {},
   "outputs": [
    {
     "name": "stdout",
     "output_type": "stream",
     "text": [
      "[1/30] Accuracy: 0.8309 Train Loss: 0.0080907546967268 Test Loss: 0.0075851501896977425 Test Accuracy: 0.8309\n",
      "[2/30] Accuracy: 0.861 Train Loss: 0.006103724300364653 Test Loss: 0.006117320153862238 Test Accuracy: 0.861\n",
      "[3/30] Accuracy: 0.8575 Train Loss: 0.0054793433945626024 Test Loss: 0.006098234560340643 Test Accuracy: 0.8575\n",
      "[4/30] Accuracy: 0.8651 Train Loss: 0.005191305946186185 Test Loss: 0.005941068287938833 Test Accuracy: 0.8651\n",
      "[5/30] Accuracy: 0.868 Train Loss: 0.0049270317434022826 Test Loss: 0.005920384079217911 Test Accuracy: 0.868\n",
      "[6/30] Accuracy: 0.8683 Train Loss: 0.004672538242737452 Test Loss: 0.00586244510486722 Test Accuracy: 0.8683\n",
      "[7/30] Accuracy: 0.8733 Train Loss: 0.004573591641833385 Test Loss: 0.005534913390874863 Test Accuracy: 0.8733\n",
      "[8/30] Accuracy: 0.8667 Train Loss: 0.004366369575634598 Test Loss: 0.006048142444342375 Test Accuracy: 0.8667\n",
      "[9/30] Accuracy: 0.8712 Train Loss: 0.004268309483056267 Test Loss: 0.0057840957306325436 Test Accuracy: 0.8712\n",
      "[10/30] Accuracy: 0.8624 Train Loss: 0.004135173906385898 Test Loss: 0.006531946361064911 Test Accuracy: 0.8624\n",
      "[11/30] Accuracy: 0.8729 Train Loss: 0.004073256110586226 Test Loss: 0.005967922043055296 Test Accuracy: 0.8729\n",
      "[12/30] Accuracy: 0.8763 Train Loss: 0.003925615770618121 Test Loss: 0.005865253508090973 Test Accuracy: 0.8763\n",
      "[13/30] Accuracy: 0.8821 Train Loss: 0.0038530237581580877 Test Loss: 0.005773317534476519 Test Accuracy: 0.8821\n",
      "[14/30] Accuracy: 0.8776 Train Loss: 0.003774024114261071 Test Loss: 0.005748769734054804 Test Accuracy: 0.8776\n",
      "[15/30] Accuracy: 0.8735 Train Loss: 0.003674315157222251 Test Loss: 0.006524639669805765 Test Accuracy: 0.8735\n",
      "[16/30] Accuracy: 0.8813 Train Loss: 0.0036698937454571327 Test Loss: 0.005744731053709984 Test Accuracy: 0.8813\n",
      "[17/30] Accuracy: 0.8817 Train Loss: 0.003506649506216248 Test Loss: 0.005751801189035177 Test Accuracy: 0.8817\n",
      "[18/30] Accuracy: 0.8795 Train Loss: 0.0035082439434404172 Test Loss: 0.006155579350888729 Test Accuracy: 0.8795\n",
      "[19/30] Accuracy: 0.8845 Train Loss: 0.003443692972821494 Test Loss: 0.0060180616565048695 Test Accuracy: 0.8845\n",
      "[20/30] Accuracy: 0.8797 Train Loss: 0.003305265857403477 Test Loss: 0.006175768095999956 Test Accuracy: 0.8797\n",
      "[21/30] Accuracy: 0.8812 Train Loss: 0.0032489069307222963 Test Loss: 0.006187941413372755 Test Accuracy: 0.8812\n",
      "[22/30] Accuracy: 0.8846 Train Loss: 0.0032737404661253096 Test Loss: 0.006209813058376312 Test Accuracy: 0.8846\n",
      "[23/30] Accuracy: 0.8865 Train Loss: 0.0032032004823287327 Test Loss: 0.006179700139909983 Test Accuracy: 0.8865\n",
      "[24/30] Accuracy: 0.8846 Train Loss: 0.003139917261960606 Test Loss: 0.006475840695202351 Test Accuracy: 0.8846\n",
      "[25/30] Accuracy: 0.8778 Train Loss: 0.003048859103706976 Test Loss: 0.006458156742155552 Test Accuracy: 0.8778\n",
      "[26/30] Accuracy: 0.8807 Train Loss: 0.0030234303498019774 Test Loss: 0.006628625560551882 Test Accuracy: 0.8807\n",
      "[27/30] Accuracy: 0.8838 Train Loss: 0.002948389262581865 Test Loss: 0.006911174859851599 Test Accuracy: 0.8838\n",
      "[28/30] Accuracy: 0.8825 Train Loss: 0.0030334129226394 Test Loss: 0.007068726234138012 Test Accuracy: 0.8825\n",
      "[29/30] Accuracy: 0.8759 Train Loss: 0.0029669434585918985 Test Loss: 0.0065331412479281425 Test Accuracy: 0.8759\n",
      "[30/30] Accuracy: 0.8834 Train Loss: 0.0028529346408322455 Test Loss: 0.006851700600236654 Test Accuracy: 0.8834\n"
     ]
    }
   ],
   "source": [
    "model = Classifier()\n",
    "criterion = nn.NLLLoss()\n",
    "optimizer = optim.Adam(model.parameters(), lr=0.003)\n",
    "\n",
    "epochs = 30\n",
    "steps = 0\n",
    "\n",
    "train_losses, test_losses = [], []\n",
    "for e in range(epochs):\n",
    "    running_loss = 0\n",
    "    for images, labels in trainloader:\n",
    "        \n",
    "        optimizer.zero_grad()\n",
    "        \n",
    "        log_ps = model(images)\n",
    "        loss = criterion(log_ps, labels)\n",
    "        loss.backward()\n",
    "        optimizer.step()\n",
    "        \n",
    "        running_loss += loss.item()\n",
    "        \n",
    "    else:\n",
    "        ## TODO: Implement the validation pass and print out the validation accuracy\n",
    "        tot_test_loss = 0\n",
    "        correct_test_predictions = 0\n",
    "\n",
    "        with torch.no_grad():\n",
    "            for images, labels in testloader:\n",
    "                log_ps = model(images)\n",
    "                loss = criterion(log_ps, labels)\n",
    "                tot_test_loss+=loss\n",
    "\n",
    "                ps = torch.exp(log_ps)\n",
    "                top_p, top_class = ps.topk(1, dim=1)\n",
    "                equals = top_class == labels.view(*top_class.shape)\n",
    "                correct_test_predictions+= equals.sum().item()\n",
    "            \n",
    "            test_loss = tot_test_loss/ len(testloader.dataset)\n",
    "            train_loss = running_loss/ len(trainloader.dataset)\n",
    "            train_losses.append(train_loss)\n",
    "            test_losses.append(test_loss)\n",
    "\n",
    "            accuracy = correct_test_predictions/ len(testloader.dataset)\n",
    "            print(\n",
    "                (f'[{e+1}/{epochs}] Accuracy: {accuracy}'),\n",
    "                (f\"Train Loss: {train_loss}\"),\n",
    "                (f\"Test Loss: {test_loss}\"),\n",
    "                (f\"Test Accuracy: {accuracy}\")\n",
    "                )"
   ]
  },
  {
   "cell_type": "markdown",
   "metadata": {},
   "source": [
    "## Overfitting\n",
    "\n",
    "If we look at the training and validation losses as we train the network, we can see a phenomenon known as overfitting.\n",
    "\n",
    "<img src='assets/overfitting.png' width=450px>\n",
    "\n",
    "The network learns the training set better and better, resulting in lower training losses. However, it starts having problems generalizing to data outside the training set leading to the validation loss increasing. The ultimate goal of any deep learning model is to make predictions on new data, so we should strive to get the lowest validation loss possible. One option is to use the version of the model with the lowest validation loss, here the one around 8-10 training epochs. This strategy is called *early-stopping*. In practice, you'd save the model frequently as you're training then later choose the model with the lowest validation loss.\n",
    "\n",
    "The most common method to reduce overfitting (outside of early-stopping) is *dropout*, where we randomly drop input units. This forces the network to share information between weights, increasing it's ability to generalize to new data. Adding dropout in PyTorch is straightforward using the [`nn.Dropout`](https://pytorch.org/docs/stable/nn.html#torch.nn.Dropout) module.\n",
    "\n",
    "```python\n",
    "class Classifier(nn.Module):\n",
    "    def __init__(self):\n",
    "        super().__init__()\n",
    "        self.fc1 = nn.Linear(784, 256)\n",
    "        self.fc2 = nn.Linear(256, 128)\n",
    "        self.fc3 = nn.Linear(128, 64)\n",
    "        self.fc4 = nn.Linear(64, 10)\n",
    "        \n",
    "        # Dropout module with 0.2 drop probability\n",
    "        self.dropout = nn.Dropout(p=0.2)\n",
    "        \n",
    "    def forward(self, x):\n",
    "        # make sure input tensor is flattened\n",
    "        x = x.view(x.shape[0], -1)\n",
    "        \n",
    "        # Now with dropout\n",
    "        x = self.dropout(F.relu(self.fc1(x)))\n",
    "        x = self.dropout(F.relu(self.fc2(x)))\n",
    "        x = self.dropout(F.relu(self.fc3(x)))\n",
    "        \n",
    "        # output so no dropout here\n",
    "        x = F.log_softmax(self.fc4(x), dim=1)\n",
    "        \n",
    "        return x\n",
    "```\n",
    "\n",
    "During training we want to use dropout to prevent overfitting, but during inference we want to use the entire network. So, we need to turn off dropout during validation, testing, and whenever we're using the network to make predictions. To do this, you use `model.eval()`. This sets the model to evaluation mode where the dropout probability is 0. You can turn dropout back on by setting the model to train mode with `model.train()`. In general, the pattern for the validation loop will look like this, where you turn off gradients, set the model to evaluation mode, calculate the validation loss and metric, then set the model back to train mode.\n",
    "\n",
    "```python\n",
    "# turn off gradients\n",
    "with torch.no_grad():\n",
    "    \n",
    "    # set model to evaluation mode\n",
    "    model.eval()\n",
    "    \n",
    "    # validation pass here\n",
    "    for images, labels in testloader:\n",
    "        ...\n",
    "\n",
    "# set model back to train mode\n",
    "model.train()\n",
    "```"
   ]
  },
  {
   "cell_type": "markdown",
   "metadata": {},
   "source": [
    "> **Exercise:** Add dropout to your model and train it on Fashion-MNIST again. See if you can get a lower validation loss or higher accuracy."
   ]
  },
  {
   "cell_type": "code",
   "execution_count": 15,
   "metadata": {},
   "outputs": [],
   "source": [
    "## TODO: Define your model with dropout added\n",
    "class ClassifierNetwork(nn.Module):\n",
    "    def __init__(self):\n",
    "        super().__init__()\n",
    "\n",
    "        self.fc1 = nn.Linear(784, 256)\n",
    "        self.fc2 = nn.Linear(256, 128)\n",
    "        self.fc3 = nn.Linear(128, 64)\n",
    "        self.fc4 = nn.Linear(64, 10)\n",
    "\n",
    "        self.relu = nn.ReLU()\n",
    "        self.log_softmax = nn.LogSoftmax(dim=1)\n",
    "        self.dropout = nn.Dropout(p=0.2)\n",
    "    \n",
    "    def forward(self, x):\n",
    "        x = x.view(x.shape[0], -1)  #flatten image\n",
    "\n",
    "        x = self.relu(self.fc1(x))\n",
    "        x = self.dropout(x)\n",
    "        x = self.relu(self.fc2(x))\n",
    "        x = self.dropout(x)\n",
    "        x = self.relu(self.fc3(x))\n",
    "        x = self.dropout(x)\n",
    "        x = self.log_softmax(self.fc4(x))\n",
    "\n",
    "        return x\n"
   ]
  },
  {
   "cell_type": "code",
   "execution_count": 16,
   "metadata": {},
   "outputs": [
    {
     "name": "stdout",
     "output_type": "stream",
     "text": [
      "[30/30] Accuracy: 0.8834 Train Loss: 0.012526162589093049 Test Loss: 0.011898641474545002 Test Accuracy: 0.8834\n",
      "[30/30] Accuracy: 0.8834 Train Loss: 0.01140847936818997 Test Loss: 0.012382801622152328 Test Accuracy: 0.8834\n",
      "[30/30] Accuracy: 0.8834 Train Loss: 0.011247692646582921 Test Loss: 0.01165471225976944 Test Accuracy: 0.8834\n",
      "[30/30] Accuracy: 0.8834 Train Loss: 0.010833579112092654 Test Loss: 0.011825107969343662 Test Accuracy: 0.8834\n",
      "[30/30] Accuracy: 0.8834 Train Loss: 0.011882184684773285 Test Loss: 0.011578282341361046 Test Accuracy: 0.8834\n",
      "[30/30] Accuracy: 0.8834 Train Loss: 0.011487780303259691 Test Loss: 0.011289292015135288 Test Accuracy: 0.8834\n",
      "[30/30] Accuracy: 0.8834 Train Loss: 0.011003239362935225 Test Loss: 0.012013399042189121 Test Accuracy: 0.8834\n",
      "[30/30] Accuracy: 0.8834 Train Loss: 0.010826221664249897 Test Loss: 0.011758757755160332 Test Accuracy: 0.8834\n",
      "[30/30] Accuracy: 0.8834 Train Loss: 0.01070122475475073 Test Loss: 0.010807547718286514 Test Accuracy: 0.8834\n",
      "[30/30] Accuracy: 0.8834 Train Loss: 0.011437461641430854 Test Loss: 0.011666331440210342 Test Accuracy: 0.8834\n",
      "[30/30] Accuracy: 0.8834 Train Loss: 0.011209593316912651 Test Loss: 0.01108876895159483 Test Accuracy: 0.8834\n",
      "[30/30] Accuracy: 0.8834 Train Loss: 0.011052343301475047 Test Loss: 0.011679650284349918 Test Accuracy: 0.8834\n",
      "[30/30] Accuracy: 0.8834 Train Loss: 0.011341835893193881 Test Loss: 0.011220930144190788 Test Accuracy: 0.8834\n",
      "[30/30] Accuracy: 0.8834 Train Loss: 0.010814624892175198 Test Loss: 0.011025918647646904 Test Accuracy: 0.8834\n",
      "[30/30] Accuracy: 0.8834 Train Loss: 0.01149663742085298 Test Loss: 0.013911483809351921 Test Accuracy: 0.8834\n",
      "[30/30] Accuracy: 0.8834 Train Loss: 0.012135737949113051 Test Loss: 0.012595511972904205 Test Accuracy: 0.8834\n",
      "[30/30] Accuracy: 0.8834 Train Loss: 0.011891110639770826 Test Loss: 0.011955547146499157 Test Accuracy: 0.8834\n",
      "[30/30] Accuracy: 0.8834 Train Loss: 0.011260921018819014 Test Loss: 0.012947342358529568 Test Accuracy: 0.8834\n",
      "[30/30] Accuracy: 0.8834 Train Loss: 0.011449227657914162 Test Loss: 0.011571543291211128 Test Accuracy: 0.8834\n",
      "[30/30] Accuracy: 0.8834 Train Loss: 0.011163598143557708 Test Loss: 0.013132370077073574 Test Accuracy: 0.8834\n",
      "[30/30] Accuracy: 0.8834 Train Loss: 0.011155344271411499 Test Loss: 0.011223848909139633 Test Accuracy: 0.8834\n",
      "[30/30] Accuracy: 0.8834 Train Loss: 0.01140493521640698 Test Loss: 0.011932415887713432 Test Accuracy: 0.8834\n",
      "[30/30] Accuracy: 0.8834 Train Loss: 0.010933534651001294 Test Loss: 0.011063224636018276 Test Accuracy: 0.8834\n",
      "[30/30] Accuracy: 0.8834 Train Loss: 0.01094719826777776 Test Loss: 0.01272923219949007 Test Accuracy: 0.8834\n",
      "[30/30] Accuracy: 0.8834 Train Loss: 0.011373742328584194 Test Loss: 0.011943105608224869 Test Accuracy: 0.8834\n",
      "[30/30] Accuracy: 0.8834 Train Loss: 0.012053022981186708 Test Loss: 0.013199330307543278 Test Accuracy: 0.8834\n",
      "[30/30] Accuracy: 0.8834 Train Loss: 0.012377077986796697 Test Loss: 0.012956684455275536 Test Accuracy: 0.8834\n",
      "[30/30] Accuracy: 0.8834 Train Loss: 0.011450399319827557 Test Loss: 0.011236104182898998 Test Accuracy: 0.8834\n",
      "[30/30] Accuracy: 0.8834 Train Loss: 0.011869647617141406 Test Loss: 0.012053110636770725 Test Accuracy: 0.8834\n",
      "[30/30] Accuracy: 0.8834 Train Loss: 0.011604003065824509 Test Loss: 0.013276583515107632 Test Accuracy: 0.8834\n"
     ]
    }
   ],
   "source": [
    "## TODO: Train your model with dropout, and monitor the training progress with the validation loss and accuracy\n",
    "criterion = nn.NLLLoss()\n",
    "model = ClassifierNetwork()\n",
    "optimizer = optim.Adam(model.parameters(), lr=0.01)\n",
    "\n",
    "epochs = 30\n",
    "steps = 0\n",
    "\n",
    "train_losses, test_losses = [], []\n",
    "\n",
    "for epoch in range(epochs):\n",
    "    running_loss = 0\n",
    "    for images, labels in trainloader:\n",
    "        optimizer.zero_grad()\n",
    "        log_ps = model(images)\n",
    "        loss = criterion(log_ps, labels)\n",
    "        loss.backward()\n",
    "        optimizer.step()\n",
    "\n",
    "        running_loss+=loss.item()\n",
    "    else:\n",
    "        tot_test_loss = 0\n",
    "        test_corr = 0\n",
    "\n",
    "        with torch.no_grad():\n",
    "            for images, labels in testloader:\n",
    "                log_ps = model(images)\n",
    "                loss = criterion(log_ps, labels)\n",
    "                tot_test_loss+=loss\n",
    "\n",
    "                ps = torch.exp(log_ps)\n",
    "                top_p, top_class = ps.topk(1, dim=1)\n",
    "                equals = top_class == labels.view(*top_class.shape)\n",
    "                test_corr+=equals.sum().item()\n",
    "\n",
    "            test_loss = tot_test_loss/ len(testloader.dataset)\n",
    "            train_loss = running_loss/ len(trainloader.dataset)\n",
    "            train_losses.append(train_loss)\n",
    "            test_losses.append(test_loss)\n",
    "\n",
    "            accuracy = correct_test_predictions/ len(testloader.dataset)\n",
    "            print(\n",
    "                (f'[{epoch+1}/{epochs}] Accuracy: {accuracy}'),\n",
    "                (f\"Train Loss: {train_loss}\"),\n",
    "                (f\"Test Loss: {test_loss}\"),\n",
    "                (f\"Test Accuracy: {accuracy}\")\n",
    "                )"
   ]
  },
  {
   "cell_type": "markdown",
   "metadata": {},
   "source": [
    "## Inference\n",
    "\n",
    "Now that the model is trained, we can use it for inference. We've done this before, but now we need to remember to set the model in inference mode with `model.eval()`. You'll also want to turn off autograd with the `torch.no_grad()` context."
   ]
  },
  {
   "cell_type": "code",
   "execution_count": 21,
   "metadata": {},
   "outputs": [
    {
     "data": {
      "image/png": "[encoded data removed]",
      "text/plain": [
       "<Figure size 432x648 with 2 Axes>"
      ]
     },
     "metadata": {
      "needs_background": "light"
     },
     "output_type": "display_data"
    }
   ],
   "source": [
    "# Import helper module (should be in the repo)\n",
    "import helper\n",
    "\n",
    "# Test out your network!\n",
    "\n",
    "model.eval()\n",
    "\n",
    "dataiter = iter(testloader)\n",
    "images, labels = dataiter.next()\n",
    "img = images[0]\n",
    "# Convert 2D image to 1D vector\n",
    "img = img.view(1, 784)\n",
    "\n",
    "# Calculate the class probabilities (softmax) for img\n",
    "with torch.no_grad():\n",
    "    output = model.forward(img)\n",
    "\n",
    "ps = torch.exp(output)\n",
    "\n",
    "# Plot the image and probabilities\n",
    "helper.view_classify(img.view(1, 28, 28), ps, version='Fashion')"
   ]
  },
  {
   "cell_type": "markdown",
   "metadata": {},
   "source": [
    "## Next Up!\n",
    "\n",
    "In the next part, I'll show you how to save your trained models. In general, you won't want to train a model everytime you need it. Instead, you'll train once, save it, then load the model when you want to train more or use if for inference."
   ]
  }
 ],
 "metadata": {
  "kernelspec": {
   "display_name": "Python 3",
   "language": "python",
   "name": "python3"
  },
  "language_info": {
   "codemirror_mode": {
    "name": "ipython",
    "version": 3
   },
   "file_extension": ".py",
   "mimetype": "text/x-python",
   "name": "python",
   "nbconvert_exporter": "python",
   "pygments_lexer": "ipython3",
   "version": "3.9.12"
  }
 },
 "nbformat": 4,
 "nbformat_minor": 2
}
