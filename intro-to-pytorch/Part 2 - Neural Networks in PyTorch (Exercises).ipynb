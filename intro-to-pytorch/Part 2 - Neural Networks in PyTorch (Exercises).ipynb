{
 "cells": [
  {
   "cell_type": "markdown",
   "metadata": {},
   "source": [
    "# Neural networks with PyTorch\n",
    "\n",
    "Deep learning networks tend to be massive with dozens or hundreds of layers, that's where the term \"deep\" comes from. You can build one of these deep networks using only weight matrices as we did in the previous notebook, but in general it's very cumbersome and difficult to implement. PyTorch has a nice module `nn` that provides a nice way to efficiently build large neural networks."
   ]
  },
  {
   "cell_type": "code",
   "execution_count": 14,
   "metadata": {
    "collapsed": true
   },
   "outputs": [],
   "source": [
    "# Import necessary packages\n",
    "\n",
    "%matplotlib inline\n",
    "%config InlineBackend.figure_format = 'retina'\n",
    "\n",
    "import numpy as np\n",
    "import torch\n",
    "\n",
    "import helper\n",
    "\n",
    "import matplotlib.pyplot as plt"
   ]
  },
  {
   "cell_type": "markdown",
   "metadata": {},
   "source": [
    "\n",
    "Now we're going to build a larger network that can solve a (formerly) difficult problem, identifying text in an image. Here we'll use the MNIST dataset which consists of greyscale handwritten digits. Each image is 28x28 pixels, you can see a sample below\n",
    "\n",
    "<img src='assets/mnist.png'>\n",
    "\n",
    "Our goal is to build a neural network that can take one of these images and predict the digit in the image.\n",
    "\n",
    "First up, we need to get our dataset. This is provided through the `torchvision` package. The code below will download the MNIST dataset, then create training and test datasets for us. Don't worry too much about the details here, you'll learn more about this later."
   ]
  },
  {
   "cell_type": "code",
   "execution_count": 15,
   "metadata": {},
   "outputs": [],
   "source": [
    "# The MNIST datasets are hosted on yann.lecun.com that has moved under CloudFlare protection\n",
    "# Run this script to enable the datasets download\n",
    "# Reference: https://github.com/pytorch/vision/issues/1938\n",
    "\n",
    "from six.moves import urllib\n",
    "opener = urllib.request.build_opener()\n",
    "opener.addheaders = [('User-agent', 'Mozilla/5.0')]\n",
    "urllib.request.install_opener(opener)"
   ]
  },
  {
   "cell_type": "code",
   "execution_count": 16,
   "metadata": {
    "collapsed": true
   },
   "outputs": [],
   "source": [
    "### Run this cell\n",
    "\n",
    "from torchvision import datasets, transforms\n",
    "\n",
    "# Define a transform to normalize the data\n",
    "transform = transforms.Compose([transforms.ToTensor(),\n",
    "                              transforms.Normalize((0.5,), (0.5,)),\n",
    "                              ])\n",
    "\n",
    "# Download and load the training data\n",
    "trainset = datasets.MNIST('~/.pytorch/MNIST_data/', download=True, train=True, transform=transform)\n",
    "trainloader = torch.utils.data.DataLoader(trainset, batch_size=64, shuffle=True)"
   ]
  },
  {
   "cell_type": "markdown",
   "metadata": {},
   "source": [
    "We have the training data loaded into `trainloader` and we make that an iterator with `iter(trainloader)`. Later, we'll use this to loop through the dataset for training, like\n",
    "\n",
    "```python\n",
    "for image, label in trainloader:\n",
    "    ## do things with images and labels\n",
    "```\n",
    "\n",
    "You'll notice I created the `trainloader` with a batch size of 64, and `shuffle=True`. The batch size is the number of images we get in one iteration from the data loader and pass through our network, often called a *batch*. And `shuffle=True` tells it to shuffle the dataset every time we start going through the data loader again. But here I'm just grabbing the first batch so we can check out the data. We can see below that `images` is just a tensor with size `(64, 1, 28, 28)`. So, 64 images per batch, 1 color channel, and 28x28 images."
   ]
  },
  {
   "cell_type": "code",
   "execution_count": 17,
   "metadata": {
    "collapsed": true
   },
   "outputs": [
    {
     "name": "stdout",
     "output_type": "stream",
     "text": [
      "<class 'torch.Tensor'>\n",
      "torch.Size([64, 1, 28, 28])\n",
      "torch.Size([64])\n"
     ]
    }
   ],
   "source": [
    "dataiter = iter(trainloader)\n",
    "images, labels = dataiter.next()\n",
    "print(type(images))\n",
    "print(images.shape)\n",
    "print(labels.shape)"
   ]
  },
  {
   "cell_type": "markdown",
   "metadata": {},
   "source": [
    "This is what one of the images looks like. "
   ]
  },
  {
   "cell_type": "code",
   "execution_count": 18,
   "metadata": {
    "collapsed": true
   },
   "outputs": [
    {
     "data": {
      "image/png": "[encoded data removed]",
      "text/plain": [
       "<Figure size 432x288 with 1 Axes>"
      ]
     },
     "metadata": {
      "image/png": {
       "height": 248,
       "width": 251
      },
      "needs_background": "light"
     },
     "output_type": "display_data"
    }
   ],
   "source": [
    "plt.imshow(images[1].numpy().squeeze(), cmap='Greys_r');"
   ]
  },
  {
   "cell_type": "markdown",
   "metadata": {},
   "source": [
    "First, let's try to build a simple network for this dataset using weight matrices and matrix multiplications. Then, we'll see how to do it using PyTorch's `nn` module which provides a much more convenient and powerful method for defining network architectures.\n",
    "\n",
    "The networks you've seen so far are called *fully-connected* or *dense* networks. Each unit in one layer is connected to each unit in the next layer. In fully-connected networks, the input to each layer must be a one-dimensional vector (which can be stacked into a 2D tensor as a batch of multiple examples). However, our images are 28x28 2D tensors, so we need to convert them into 1D vectors. Thinking about sizes, we need to convert the batch of images with shape `(64, 1, 28, 28)` to a have a shape of `(64, 784)`, 784 is 28 times 28. This is typically called *flattening*, we flattened the 2D images into 1D vectors.\n",
    "\n",
    "Previously you built a network with one output unit. Here we need 10 output units, one for each digit. We want our network to predict the digit shown in an image, so what we'll do is calculate probabilities that the image is of any one digit or class. This ends up being a discrete probability distribution over the classes (digits) that tells us the most likely class for the image. That means we need 10 output units for the 10 classes (digits). We'll see how to convert the network output into a probability distribution next.\n",
    "\n",
    "> **Exercise:** Flatten the batch of images `images`. Then build a multi-layer network with 784 input units, 256 hidden units, and 10 output units using random tensors for the weights and biases. For now, use a sigmoid activation for the hidden layer. Leave the output layer without an activation, we'll add one that gives us a probability distribution next."
   ]
  },
  {
   "cell_type": "code",
   "execution_count": 19,
   "metadata": {
    "collapsed": true
   },
   "outputs": [
    {
     "name": "stdout",
     "output_type": "stream",
     "text": [
      "tensor([[9.6896e-01, 9.9625e-01, 2.1701e-05, 4.7419e-04, 9.7590e-01, 4.6399e-10,\n",
      "         1.4988e-02, 1.0000e+00, 5.2998e-01, 1.0000e+00],\n",
      "        [3.0588e-01, 1.0000e+00, 2.0635e-03, 1.4382e-08, 9.9796e-01, 4.3086e-10,\n",
      "         1.7395e-04, 1.0000e+00, 3.5245e-01, 9.8973e-01],\n",
      "        [2.2530e-02, 9.9980e-01, 2.1151e-04, 2.0285e-08, 1.0000e+00, 1.2027e-07,\n",
      "         2.8085e-05, 1.0000e+00, 8.7274e-01, 9.9913e-01],\n",
      "        [9.6884e-01, 1.0000e+00, 1.4724e-02, 3.3416e-07, 1.0000e+00, 7.5277e-10,\n",
      "         9.9239e-01, 9.9997e-01, 5.0611e-01, 9.9990e-01],\n",
      "        [4.9939e-04, 9.9584e-01, 8.1855e-05, 1.7554e-03, 9.9040e-01, 5.8009e-08,\n",
      "         1.8868e-05, 1.0000e+00, 9.9268e-01, 9.6815e-01],\n",
      "        [9.7899e-01, 9.9995e-01, 8.4032e-01, 1.7058e-09, 3.7529e-01, 9.3236e-12,\n",
      "         2.3516e-02, 1.0000e+00, 3.6036e-01, 9.9861e-01],\n",
      "        [9.1082e-01, 7.4840e-02, 9.6171e-03, 2.5667e-07, 3.1024e-01, 3.2211e-12,\n",
      "         3.0786e-07, 1.0000e+00, 4.3725e-03, 1.0000e+00],\n",
      "        [1.7004e-01, 8.6746e-01, 8.9809e-01, 1.4325e-07, 1.0000e+00, 1.9179e-10,\n",
      "         7.1381e-03, 1.0000e+00, 8.3021e-01, 1.0472e-02],\n",
      "        [1.1867e-04, 9.9922e-01, 9.8454e-07, 8.5556e-08, 9.9998e-01, 6.2583e-10,\n",
      "         7.0348e-04, 1.0000e+00, 2.5903e-04, 9.9554e-01],\n",
      "        [9.9936e-01, 1.0000e+00, 1.5910e-04, 3.4622e-07, 1.1423e-01, 6.8617e-12,\n",
      "         3.9754e-05, 1.0000e+00, 1.0722e-03, 9.9992e-01],\n",
      "        [9.9994e-01, 6.3217e-01, 1.5273e-09, 5.2433e-03, 1.0000e+00, 1.2196e-09,\n",
      "         8.1660e-01, 1.0000e+00, 9.6347e-01, 9.9446e-01],\n",
      "        [2.3907e-01, 9.9997e-01, 3.3133e-09, 1.8837e-05, 9.9998e-01, 1.6805e-08,\n",
      "         2.5603e-06, 1.0000e+00, 2.1619e-01, 9.7127e-01],\n",
      "        [2.9378e-01, 1.0000e+00, 2.0093e-03, 1.8578e-06, 6.9381e-03, 4.7057e-07,\n",
      "         1.3431e-04, 1.0000e+00, 8.6666e-01, 1.0000e+00],\n",
      "        [9.9707e-01, 9.8938e-01, 5.0336e-02, 1.5114e-05, 1.2411e-02, 8.4404e-12,\n",
      "         4.0297e-04, 1.0000e+00, 6.7511e-01, 5.5383e-01],\n",
      "        [1.6568e-03, 9.9443e-01, 1.4491e-02, 3.3731e-08, 9.9983e-01, 5.5671e-09,\n",
      "         1.5117e-05, 1.0000e+00, 9.8649e-02, 9.7843e-01],\n",
      "        [9.7619e-01, 8.4920e-01, 6.4135e-07, 6.2774e-07, 1.0000e+00, 4.6014e-12,\n",
      "         7.6246e-06, 9.9745e-01, 9.7688e-01, 1.0747e-01],\n",
      "        [1.7895e-04, 9.9972e-01, 4.6827e-02, 3.3770e-09, 9.9628e-01, 1.7203e-11,\n",
      "         6.4836e-07, 1.0000e+00, 1.0144e-02, 9.9961e-01],\n",
      "        [5.6648e-01, 2.0413e-01, 1.8363e-01, 7.9318e-09, 9.8789e-01, 3.1688e-10,\n",
      "         1.4004e-05, 9.6964e-01, 4.9879e-05, 9.8889e-01],\n",
      "        [7.6664e-01, 1.0000e+00, 4.1977e-02, 9.1181e-09, 9.8942e-01, 5.0264e-06,\n",
      "         9.6502e-06, 1.0000e+00, 2.9328e-04, 9.3960e-01],\n",
      "        [1.2557e-05, 9.9989e-01, 6.7314e-01, 9.1145e-08, 9.9994e-01, 1.6979e-12,\n",
      "         2.0656e-06, 1.0000e+00, 9.9386e-01, 2.8644e-03],\n",
      "        [6.1210e-04, 9.8944e-01, 6.6401e-03, 5.5286e-11, 9.9998e-01, 7.5326e-10,\n",
      "         3.8706e-03, 9.9096e-01, 9.4638e-01, 9.8250e-01],\n",
      "        [1.0678e-02, 9.9997e-01, 3.4464e-03, 3.6958e-03, 9.4166e-01, 3.8216e-07,\n",
      "         2.0638e-07, 1.0000e+00, 6.2369e-01, 1.0000e+00],\n",
      "        [8.0092e-01, 9.9998e-01, 1.4184e-07, 6.4144e-01, 9.9988e-01, 3.2891e-12,\n",
      "         9.8674e-05, 1.0000e+00, 9.0001e-01, 1.0000e+00],\n",
      "        [6.0811e-05, 4.0879e-01, 1.3578e-02, 1.3462e-06, 1.0000e+00, 3.7364e-07,\n",
      "         4.4894e-05, 1.0000e+00, 9.9348e-01, 5.7722e-02],\n",
      "        [1.0882e-03, 9.9989e-01, 8.8233e-06, 1.5426e-02, 9.9967e-01, 2.5274e-08,\n",
      "         4.4382e-11, 1.0000e+00, 7.2754e-03, 1.0000e+00],\n",
      "        [2.5712e-03, 9.8126e-01, 4.7014e-04, 1.4237e-05, 9.9624e-01, 3.8325e-10,\n",
      "         3.5550e-06, 1.0000e+00, 1.5315e-03, 1.0000e+00],\n",
      "        [2.9313e-01, 9.9968e-01, 1.7514e-04, 2.0987e-09, 1.0000e+00, 9.6201e-06,\n",
      "         3.7364e-01, 1.0000e+00, 8.3409e-04, 4.3521e-02],\n",
      "        [9.9975e-01, 1.0000e+00, 8.4954e-06, 1.2215e-03, 9.9238e-01, 7.7041e-10,\n",
      "         8.2772e-08, 1.0000e+00, 2.2521e-02, 1.0000e+00],\n",
      "        [9.5950e-04, 9.7095e-01, 2.8622e-03, 1.9501e-06, 9.9998e-01, 8.1022e-09,\n",
      "         3.0522e-07, 9.9999e-01, 8.3780e-04, 9.2331e-01],\n",
      "        [8.4410e-04, 9.3832e-01, 1.4890e-04, 1.8396e-06, 6.9377e-01, 2.4952e-06,\n",
      "         1.6079e-11, 1.0000e+00, 2.1536e-03, 9.9997e-01],\n",
      "        [4.0518e-02, 9.7464e-01, 4.8740e-05, 1.9835e-05, 9.2433e-01, 1.5620e-11,\n",
      "         5.8071e-04, 1.0000e+00, 8.1865e-01, 9.9946e-01],\n",
      "        [2.2109e-03, 9.9994e-01, 2.1839e-04, 4.3667e-09, 9.9954e-01, 2.0436e-09,\n",
      "         9.8640e-07, 9.9967e-01, 3.1116e-03, 9.9695e-01],\n",
      "        [1.3269e-03, 2.2794e-01, 5.9834e-05, 4.6748e-06, 9.7389e-01, 4.1014e-10,\n",
      "         1.3593e-05, 1.0000e+00, 7.2000e-02, 9.8947e-01],\n",
      "        [8.1702e-01, 9.9306e-01, 4.1994e-03, 1.5485e-06, 1.0000e+00, 2.5202e-09,\n",
      "         7.0220e-06, 1.0000e+00, 9.7075e-01, 8.9284e-01],\n",
      "        [3.1027e-04, 9.9729e-01, 4.7139e-03, 2.9035e-05, 9.9980e-01, 3.2751e-11,\n",
      "         6.9859e-07, 1.0000e+00, 3.8909e-02, 1.0000e+00],\n",
      "        [2.4559e-03, 9.9881e-01, 5.2436e-03, 3.9533e-05, 6.3841e-01, 6.7916e-14,\n",
      "         5.7582e-06, 1.0000e+00, 1.5771e-03, 9.9996e-01],\n",
      "        [8.9762e-01, 9.9959e-01, 7.3662e-04, 6.5526e-07, 9.9793e-01, 7.4139e-10,\n",
      "         2.6769e-05, 1.0000e+00, 2.7481e-02, 9.9975e-01],\n",
      "        [1.6536e-01, 7.7753e-01, 7.8688e-03, 6.0220e-06, 9.9975e-01, 1.7845e-08,\n",
      "         1.3327e-03, 1.0000e+00, 8.1026e-02, 7.0772e-01],\n",
      "        [4.0308e-04, 9.9970e-01, 4.3018e-03, 5.3058e-07, 8.4356e-01, 1.0083e-05,\n",
      "         2.0317e-08, 1.0000e+00, 8.4714e-04, 9.7959e-01],\n",
      "        [9.6796e-01, 9.9993e-01, 5.4418e-06, 1.3415e-08, 9.9995e-01, 2.4586e-11,\n",
      "         1.7421e-06, 1.0000e+00, 2.8996e-03, 1.0000e+00],\n",
      "        [1.1206e-02, 9.7684e-01, 4.7142e-01, 3.4233e-05, 1.0000e+00, 1.0591e-09,\n",
      "         3.2480e-07, 1.0000e+00, 2.1865e-05, 1.0000e+00],\n",
      "        [1.1803e-04, 9.9999e-01, 1.6805e-01, 4.0567e-03, 9.7353e-01, 3.3221e-09,\n",
      "         2.4976e-04, 1.0000e+00, 4.4639e-04, 9.9998e-01],\n",
      "        [3.0593e-03, 9.9910e-01, 2.9219e-01, 3.5975e-09, 9.8476e-01, 5.6964e-11,\n",
      "         1.3729e-06, 1.0000e+00, 1.4957e-02, 9.9998e-01],\n",
      "        [9.8081e-01, 1.0000e+00, 9.9974e-01, 1.0140e-10, 9.8551e-01, 1.0518e-11,\n",
      "         4.5882e-03, 1.0000e+00, 9.7034e-01, 9.9994e-01],\n",
      "        [1.0952e-02, 1.0000e+00, 4.7711e-04, 1.6086e-06, 2.3276e-01, 1.1665e-13,\n",
      "         2.7797e-06, 1.0000e+00, 2.1480e-04, 9.9995e-01],\n",
      "        [2.6965e-01, 9.9986e-01, 4.7985e-03, 4.3183e-06, 9.9991e-01, 5.8145e-08,\n",
      "         1.4051e-05, 1.0000e+00, 2.9508e-03, 8.7927e-01],\n",
      "        [7.0306e-01, 9.9378e-01, 2.2757e-01, 6.2822e-08, 9.9989e-01, 1.4163e-11,\n",
      "         9.6965e-02, 1.0000e+00, 9.9337e-01, 9.9973e-01],\n",
      "        [7.3121e-06, 1.0000e+00, 5.7189e-04, 1.3587e-05, 9.9738e-01, 2.8652e-08,\n",
      "         4.7438e-05, 1.0000e+00, 1.1047e-02, 4.5688e-02],\n",
      "        [9.9989e-01, 9.9960e-01, 4.1812e-02, 4.5602e-04, 9.9999e-01, 1.0532e-07,\n",
      "         8.8582e-07, 1.0000e+00, 3.5394e-01, 1.0000e+00],\n",
      "        [9.5016e-01, 1.0000e+00, 7.5449e-06, 1.8807e-06, 9.9974e-01, 1.1039e-07,\n",
      "         1.7490e-05, 1.0000e+00, 9.5350e-01, 9.9981e-01],\n",
      "        [5.4797e-03, 1.0000e+00, 1.7153e-05, 2.8824e-07, 9.5214e-01, 8.4915e-08,\n",
      "         1.5391e-02, 9.9838e-01, 1.2749e-02, 9.9991e-01],\n",
      "        [1.4401e-02, 9.9994e-01, 5.8732e-06, 5.4325e-04, 9.9635e-01, 2.3773e-09,\n",
      "         2.5765e-07, 1.0000e+00, 6.4378e-03, 1.0000e+00],\n",
      "        [4.1469e-01, 9.9994e-01, 1.1378e-03, 6.6818e-03, 9.9981e-01, 1.1195e-10,\n",
      "         1.4156e-03, 1.0000e+00, 9.4684e-01, 9.6763e-01],\n",
      "        [2.3281e-01, 5.6370e-01, 3.8285e-06, 6.1352e-05, 9.9988e-01, 1.4015e-09,\n",
      "         4.9471e-05, 1.0000e+00, 6.9119e-01, 1.0000e+00],\n",
      "        [3.6495e-01, 9.9999e-01, 4.2745e-05, 1.3426e-05, 9.9039e-01, 7.0659e-11,\n",
      "         3.8122e-03, 1.0000e+00, 9.9692e-01, 9.9991e-01],\n",
      "        [2.2655e-01, 1.0000e+00, 1.2089e-07, 1.3455e-01, 1.0000e+00, 1.3956e-11,\n",
      "         7.2957e-04, 1.0000e+00, 5.1004e-03, 1.0000e+00],\n",
      "        [8.8861e-01, 9.9999e-01, 1.1484e-03, 7.2225e-07, 9.3714e-01, 3.2707e-06,\n",
      "         1.0059e-07, 1.0000e+00, 6.4682e-01, 9.9645e-01],\n",
      "        [3.0457e-02, 3.5061e-01, 9.6414e-01, 4.2746e-03, 9.9824e-01, 1.2730e-12,\n",
      "         2.1124e-06, 1.0000e+00, 5.8586e-02, 9.9999e-01],\n",
      "        [1.6394e-04, 8.7032e-01, 3.6691e-04, 9.2499e-02, 5.5942e-01, 8.7350e-13,\n",
      "         3.9701e-05, 1.0000e+00, 1.3013e-01, 9.9815e-01],\n",
      "        [3.1608e-01, 3.9175e-01, 9.8973e-01, 5.0750e-03, 9.9710e-01, 4.1718e-13,\n",
      "         1.5668e-04, 1.0000e+00, 5.1419e-02, 9.9980e-01],\n",
      "        [2.1169e-05, 2.6481e-01, 1.9355e-02, 2.1732e-09, 9.9999e-01, 1.6336e-10,\n",
      "         5.0664e-06, 1.0000e+00, 3.0646e-05, 9.9862e-01],\n",
      "        [9.5567e-01, 8.2631e-01, 7.6585e-02, 3.0679e-05, 9.9999e-01, 9.0822e-08,\n",
      "         2.6727e-01, 1.0000e+00, 9.7471e-01, 9.9826e-01],\n",
      "        [2.1038e-02, 1.0000e+00, 3.1294e-05, 2.1514e-05, 9.9987e-01, 1.4082e-11,\n",
      "         7.0679e-05, 1.0000e+00, 2.4959e-02, 1.0000e+00],\n",
      "        [4.3804e-02, 9.8628e-01, 5.6284e-01, 7.3392e-10, 9.9999e-01, 7.0710e-13,\n",
      "         2.5209e-08, 1.0000e+00, 1.7741e-01, 2.0800e-02]])\n"
     ]
    }
   ],
   "source": [
    "## Your solution\n",
    "# for image, label in trainloader:\n",
    "sigmoid = lambda x : 1/(1 + torch.exp(x))\n",
    "\n",
    "features = images.view(images.shape[0], -1) # shorthand for flattening -> -1\n",
    "\n",
    "n_input = features.shape[1]\n",
    "n_hidden = 256\n",
    "n_output = 10\n",
    "\n",
    "\n",
    "W1 = torch.randn((n_input, n_hidden))\n",
    "W2 = torch.randn((n_hidden, n_output))\n",
    "\n",
    "# B1 = torch.randn((1, n_hidden))\n",
    "# B2 = torch.randn((1, n_output))\n",
    "\n",
    "B1 = torch.randn(n_hidden)\n",
    "B2 = torch.randn(n_output)\n",
    "\n",
    "\n",
    "h1 = torch.mm(features, W1) + B1\n",
    "a1 = sigmoid(h1)\n",
    "\n",
    "h2 = torch.mm(a1, W2) + B2\n",
    "out = sigmoid(h2)\n",
    "print(out)\n",
    "\n",
    "# out = # output of your network, should have shape (64,10)"
   ]
  },
  {
   "cell_type": "markdown",
   "metadata": {},
   "source": [
    "Now we have 10 outputs for our network. We want to pass in an image to our network and get out a probability distribution over the classes that tells us the likely class(es) the image belongs to. Something that looks like this:\n",
    "<img src='assets/image_distribution.png' width=500px>\n",
    "\n",
    "Here we see that the probability for each class is roughly the same. This is representing an untrained network, it hasn't seen any data yet so it just returns a uniform distribution with equal probabilities for each class.\n",
    "\n",
    "To calculate this probability distribution, we often use the [**softmax** function](https://en.wikipedia.org/wiki/Softmax_function). Mathematically this looks like\n",
    "\n",
    "$$\n",
    "\\Large \\sigma(x_i) = \\cfrac{e^{x_i}}{\\sum_k^K{e^{x_k}}}\n",
    "$$\n",
    "\n",
    "What this does is squish each input $x_i$ between 0 and 1 and normalizes the values to give you a proper probability distribution where the probabilites sum up to one.\n",
    "\n",
    "> **Exercise:** Implement a function `softmax` that performs the softmax calculation and returns probability distributions for each example in the batch. Note that you'll need to pay attention to the shapes when doing this. If you have a tensor `a` with shape `(64, 10)` and a tensor `b` with shape `(64,)`, doing `a/b` will give you an error because PyTorch will try to do the division across the columns (called broadcasting) but you'll get a size mismatch. The way to think about this is for each of the 64 examples, you only want to divide by one value, the sum in the denominator. So you need `b` to have a shape of `(64, 1)`. This way PyTorch will divide the 10 values in each row of `a` by the one value in each row of `b`. Pay attention to how you take the sum as well. You'll need to define the `dim` keyword in `torch.sum`. Setting `dim=0` takes the sum across the rows while `dim=1` takes the sum across the columns."
   ]
  },
  {
   "cell_type": "code",
   "execution_count": 20,
   "metadata": {
    "collapsed": true
   },
   "outputs": [
    {
     "name": "stdout",
     "output_type": "stream",
     "text": [
      "torch.Size([64, 10])\n",
      "tensor([1.0000, 1.0000, 1.0000, 1.0000, 1.0000, 1.0000, 1.0000, 1.0000, 1.0000,\n",
      "        1.0000, 1.0000, 1.0000, 1.0000, 1.0000, 1.0000, 1.0000, 1.0000, 1.0000,\n",
      "        1.0000, 1.0000, 1.0000, 1.0000, 1.0000, 1.0000, 1.0000, 1.0000, 1.0000,\n",
      "        1.0000, 1.0000, 1.0000, 1.0000, 1.0000, 1.0000, 1.0000, 1.0000, 1.0000,\n",
      "        1.0000, 1.0000, 1.0000, 1.0000, 1.0000, 1.0000, 1.0000, 1.0000, 1.0000,\n",
      "        1.0000, 1.0000, 1.0000, 1.0000, 1.0000, 1.0000, 1.0000, 1.0000, 1.0000,\n",
      "        1.0000, 1.0000, 1.0000, 1.0000, 1.0000, 1.0000, 1.0000, 1.0000, 1.0000,\n",
      "        1.0000])\n"
     ]
    }
   ],
   "source": [
    "def softmax(x):\n",
    "    return torch.exp(x)/torch.sum(torch.exp(x), dim=1).view(-1, 1)\n",
    "\n",
    "# Here, out should be the output of the network in the previous excercise with shape (64,10)\n",
    "probabilities = softmax(out)\n",
    "# print(torch.sum(probabilities))\n",
    "\n",
    "# Does it have the right shape? Should be (64, 10)\n",
    "print(probabilities.shape)\n",
    "# Does it sum to 1?\n",
    "print(probabilities.sum(dim=1))"
   ]
  },
  {
   "cell_type": "markdown",
   "metadata": {},
   "source": [
    "## Building networks with PyTorch\n",
    "\n",
    "PyTorch provides a module `nn` that makes building networks much simpler. Here I'll show you how to build the same one as above with 784 inputs, 256 hidden units, 10 output units and a softmax output."
   ]
  },
  {
   "cell_type": "code",
   "execution_count": 21,
   "metadata": {
    "collapsed": true
   },
   "outputs": [],
   "source": [
    "from torch import nn"
   ]
  },
  {
   "cell_type": "code",
   "execution_count": 22,
   "metadata": {
    "collapsed": true
   },
   "outputs": [],
   "source": [
    "class Network(nn.Module):\n",
    "    def __init__(self):\n",
    "        super().__init__()\n",
    "        \n",
    "        # Inputs to hidden layer linear transformation\n",
    "        self.hidden = nn.Linear(784, 256)\n",
    "        # Output layer, 10 units - one for each digit\n",
    "        self.output = nn.Linear(256, 10)\n",
    "        \n",
    "        # Define sigmoid activation and softmax output \n",
    "        self.sigmoid = nn.Sigmoid()\n",
    "        self.softmax = nn.Softmax(dim=1)\n",
    "        \n",
    "    def forward(self, x):\n",
    "        # Pass the input tensor through each of our operations\n",
    "        x = self.hidden(x)\n",
    "        x = self.sigmoid(x)\n",
    "        x = self.output(x)\n",
    "        x = self.softmax(x)\n",
    "        \n",
    "        return x"
   ]
  },
  {
   "cell_type": "markdown",
   "metadata": {},
   "source": [
    "Let's go through this bit by bit.\n",
    "\n",
    "```python\n",
    "class Network(nn.Module):\n",
    "```\n",
    "\n",
    "Here we're inheriting from `nn.Module`. Combined with `super().__init__()` this creates a class that tracks the architecture and provides a lot of useful methods and attributes. It is mandatory to inherit from `nn.Module` when you're creating a class for your network. The name of the class itself can be anything.\n",
    "\n",
    "```python\n",
    "self.hidden = nn.Linear(784, 256)\n",
    "```\n",
    "\n",
    "This line creates a module for a linear transformation, $x\\mathbf{W} + b$, with 784 inputs and 256 outputs and assigns it to `self.hidden`. The module automatically creates the weight and bias tensors which we'll use in the `forward` method. You can access the weight and bias tensors once the network (`net`) is created with `net.hidden.weight` and `net.hidden.bias`.\n",
    "\n",
    "```python\n",
    "self.output = nn.Linear(256, 10)\n",
    "```\n",
    "\n",
    "Similarly, this creates another linear transformation with 256 inputs and 10 outputs.\n",
    "\n",
    "```python\n",
    "self.sigmoid = nn.Sigmoid()\n",
    "self.softmax = nn.Softmax(dim=1)\n",
    "```\n",
    "\n",
    "Here I defined operations for the sigmoid activation and softmax output. Setting `dim=1` in `nn.Softmax(dim=1)` calculates softmax across the columns.\n",
    "\n",
    "```python\n",
    "def forward(self, x):\n",
    "```\n",
    "\n",
    "PyTorch networks created with `nn.Module` must have a `forward` method defined. It takes in a tensor `x` and passes it through the operations you defined in the `__init__` method.\n",
    "\n",
    "```python\n",
    "x = self.hidden(x)\n",
    "x = self.sigmoid(x)\n",
    "x = self.output(x)\n",
    "x = self.softmax(x)\n",
    "```\n",
    "\n",
    "Here the input tensor `x` is passed through each operation and reassigned to `x`. We can see that the input tensor goes through the hidden layer, then a sigmoid function, then the output layer, and finally the softmax function. It doesn't matter what you name the variables here, as long as the inputs and outputs of the operations match the network architecture you want to build. The order in which you define things in the `__init__` method doesn't matter, but you'll need to sequence the operations correctly in the `forward` method.\n",
    "\n",
    "Now we can create a `Network` object."
   ]
  },
  {
   "cell_type": "code",
   "execution_count": 23,
   "metadata": {
    "collapsed": true
   },
   "outputs": [
    {
     "data": {
      "text/plain": [
       "Network(\n",
       "  (hidden): Linear(in_features=784, out_features=256, bias=True)\n",
       "  (output): Linear(in_features=256, out_features=10, bias=True)\n",
       "  (sigmoid): Sigmoid()\n",
       "  (softmax): Softmax(dim=1)\n",
       ")"
      ]
     },
     "execution_count": 23,
     "metadata": {},
     "output_type": "execute_result"
    }
   ],
   "source": [
    "# Create the network and look at it's text representation\n",
    "model = Network()\n",
    "model"
   ]
  },
  {
   "cell_type": "markdown",
   "metadata": {},
   "source": [
    "You can define the network somewhat more concisely and clearly using the `torch.nn.functional` module. This is the most common way you'll see networks defined as many operations are simple element-wise functions. We normally import this module as `F`, `import torch.nn.functional as F`."
   ]
  },
  {
   "cell_type": "code",
   "execution_count": 24,
   "metadata": {
    "collapsed": true
   },
   "outputs": [],
   "source": [
    "import torch.nn.functional as F\n",
    "\n",
    "class Network(nn.Module):\n",
    "    def __init__(self):\n",
    "        super().__init__()\n",
    "        # Inputs to hidden layer linear transformation\n",
    "        self.hidden = nn.Linear(784, 256)\n",
    "        # Output layer, 10 units - one for each digit\n",
    "        self.output = nn.Linear(256, 10)\n",
    "        \n",
    "    def forward(self, x):\n",
    "        # Hidden layer with sigmoid activation\n",
    "        x = F.sigmoid(self.hidden(x))\n",
    "        # Output layer with softmax activation\n",
    "        x = F.softmax(self.output(x), dim=1)\n",
    "        \n",
    "        return x"
   ]
  },
  {
   "cell_type": "markdown",
   "metadata": {},
   "source": [
    "### Activation functions\n",
    "\n",
    "So far we've only been looking at the sigmoid activation function, but in general any function can be used as an activation function. The only requirement is that for a network to approximate a non-linear function, the activation functions must be non-linear. Here are a few more examples of common activation functions: Tanh (hyperbolic tangent), and ReLU (rectified linear unit).\n",
    "\n",
    "<img src=\"assets/activation.png\" width=700px>\n",
    "\n",
    "In practice, the ReLU function is used almost exclusively as the activation function for hidden layers."
   ]
  },
  {
   "cell_type": "markdown",
   "metadata": {},
   "source": [
    "### Your Turn to Build a Network\n",
    "\n",
    "<img src=\"assets/mlp_mnist.png\" width=600px>\n",
    "\n",
    "> **Exercise:** Create a network with 784 input units, a hidden layer with 128 units and a ReLU activation, then a hidden layer with 64 units and a ReLU activation, and finally an output layer with a softmax activation as shown above. You can use a ReLU activation with the `nn.ReLU` module or `F.relu` function.\n",
    "\n",
    "It's good practice to name your layers by their type of network, for instance 'fc' to represent a fully-connected layer. As you code your solution, use `fc1`, `fc2`, and `fc3` as your layer names."
   ]
  },
  {
   "cell_type": "code",
   "execution_count": 40,
   "metadata": {
    "collapsed": true,
    "scrolled": true
   },
   "outputs": [],
   "source": [
    "## Your solution here\n",
    "class Network(nn.Module):\n",
    "    def __init__(self):\n",
    "        super().__init__()\n",
    "        self.fc1 = nn.Linear(784, 128)\n",
    "        self.fc2 = nn.Linear(128, 64)\n",
    "        self.fc3 = nn.Linear(64, 10)\n",
    "        self.relu = nn.ReLU()\n",
    "        self.softmax = nn.Softmax(dim=1)\n",
    "        self.cross_entropy = nn.CrossEntropyLoss()\n",
    "    \n",
    "    def forward(self, x):\n",
    "        x = self.fc1(x)\n",
    "        x = self.relu(x)\n",
    "        x = self.fc2(x)\n",
    "        x = self.relu(x)\n",
    "        x = self.fc3(x)\n",
    "        x = self.softmax(x)\n",
    "\n",
    "        return x\n",
    "        # x = self.cross_entropy(x)"
   ]
  },
  {
   "cell_type": "markdown",
   "metadata": {},
   "source": [
    "### Initializing weights and biases\n",
    "\n",
    "The weights and such are automatically initialized for you, but it's possible to customize how they are initialized. The weights and biases are tensors attached to the layer you defined, you can get them with `model.fc1.weight` for instance."
   ]
  },
  {
   "cell_type": "code",
   "execution_count": 41,
   "metadata": {
    "collapsed": true
   },
   "outputs": [
    {
     "name": "stdout",
     "output_type": "stream",
     "text": [
      "Parameter containing:\n",
      "tensor([[ 0.0194, -0.0222, -0.0075,  ..., -0.0150, -0.0028,  0.0022],\n",
      "        [ 0.0098, -0.0099, -0.0216,  ...,  0.0207,  0.0238, -0.0145],\n",
      "        [ 0.0310, -0.0315,  0.0250,  ...,  0.0140,  0.0066, -0.0035],\n",
      "        ...,\n",
      "        [-0.0183,  0.0087, -0.0260,  ...,  0.0188, -0.0069, -0.0263],\n",
      "        [ 0.0083, -0.0109, -0.0262,  ...,  0.0155, -0.0355, -0.0120],\n",
      "        [ 0.0064, -0.0024, -0.0072,  ..., -0.0158, -0.0173,  0.0221]],\n",
      "       requires_grad=True)\n",
      "Parameter containing:\n",
      "tensor([-0.0058, -0.0091,  0.0328,  0.0055,  0.0208, -0.0003,  0.0039,  0.0106,\n",
      "         0.0198,  0.0225, -0.0314,  0.0110,  0.0236,  0.0051, -0.0201, -0.0339,\n",
      "         0.0129, -0.0061,  0.0221, -0.0271, -0.0028,  0.0018,  0.0013, -0.0337,\n",
      "         0.0209,  0.0105,  0.0268,  0.0099, -0.0309,  0.0285,  0.0346,  0.0217,\n",
      "        -0.0032, -0.0124, -0.0227, -0.0106,  0.0221, -0.0068,  0.0325, -0.0250,\n",
      "        -0.0183,  0.0210, -0.0170,  0.0082, -0.0081, -0.0344,  0.0347, -0.0189,\n",
      "        -0.0351,  0.0146,  0.0355, -0.0283,  0.0117, -0.0204,  0.0281, -0.0019,\n",
      "         0.0135, -0.0173, -0.0297,  0.0286, -0.0253, -0.0329,  0.0355,  0.0172,\n",
      "        -0.0071, -0.0091, -0.0074, -0.0128, -0.0308, -0.0065,  0.0235, -0.0023,\n",
      "        -0.0021,  0.0303, -0.0065,  0.0296, -0.0044,  0.0335, -0.0313, -0.0051,\n",
      "         0.0350, -0.0291,  0.0024,  0.0290, -0.0191, -0.0346, -0.0160,  0.0211,\n",
      "         0.0132, -0.0143,  0.0154, -0.0145, -0.0151,  0.0223, -0.0234, -0.0312,\n",
      "         0.0017, -0.0060, -0.0225, -0.0274,  0.0010, -0.0096,  0.0220,  0.0256,\n",
      "         0.0183,  0.0002,  0.0336, -0.0084, -0.0196,  0.0063, -0.0012, -0.0176,\n",
      "         0.0183, -0.0311,  0.0108,  0.0016, -0.0120, -0.0109,  0.0112, -0.0320,\n",
      "        -0.0321, -0.0197, -0.0156, -0.0231,  0.0032, -0.0212, -0.0353, -0.0030],\n",
      "       requires_grad=True)\n"
     ]
    }
   ],
   "source": [
    "model = Network()\n",
    "print(model.fc1.weight)\n",
    "print(model.fc1.bias)"
   ]
  },
  {
   "cell_type": "markdown",
   "metadata": {},
   "source": [
    "For custom initialization, we want to modify these tensors in place. These are actually autograd *Variables*, so we need to get back the actual tensors with `model.fc1.weight.data`. Once we have the tensors, we can fill them with zeros (for biases) or random normal values."
   ]
  },
  {
   "cell_type": "code",
   "execution_count": 42,
   "metadata": {
    "collapsed": true
   },
   "outputs": [
    {
     "data": {
      "text/plain": [
       "tensor([0., 0., 0., 0., 0., 0., 0., 0., 0., 0., 0., 0., 0., 0., 0., 0., 0., 0., 0., 0., 0., 0., 0., 0.,\n",
       "        0., 0., 0., 0., 0., 0., 0., 0., 0., 0., 0., 0., 0., 0., 0., 0., 0., 0., 0., 0., 0., 0., 0., 0.,\n",
       "        0., 0., 0., 0., 0., 0., 0., 0., 0., 0., 0., 0., 0., 0., 0., 0., 0., 0., 0., 0., 0., 0., 0., 0.,\n",
       "        0., 0., 0., 0., 0., 0., 0., 0., 0., 0., 0., 0., 0., 0., 0., 0., 0., 0., 0., 0., 0., 0., 0., 0.,\n",
       "        0., 0., 0., 0., 0., 0., 0., 0., 0., 0., 0., 0., 0., 0., 0., 0., 0., 0., 0., 0., 0., 0., 0., 0.,\n",
       "        0., 0., 0., 0., 0., 0., 0., 0.])"
      ]
     },
     "execution_count": 42,
     "metadata": {},
     "output_type": "execute_result"
    }
   ],
   "source": [
    "# Set biases to all zeros\n",
    "model.fc1.bias.data.fill_(0)"
   ]
  },
  {
   "cell_type": "code",
   "execution_count": 43,
   "metadata": {
    "collapsed": true
   },
   "outputs": [
    {
     "data": {
      "text/plain": [
       "tensor([[ 2.1516e-03, -6.2393e-03,  7.0779e-03,  ..., -2.6914e-02,\n",
       "         -4.3389e-03,  1.1215e-02],\n",
       "        [-1.5978e-02,  9.4154e-03,  7.6222e-03,  ..., -1.8195e-03,\n",
       "          1.0736e-02, -5.9256e-03],\n",
       "        [-4.8465e-03, -9.1421e-05,  6.9027e-03,  ..., -1.6518e-02,\n",
       "         -7.6824e-03, -6.8347e-03],\n",
       "        ...,\n",
       "        [ 1.2793e-02,  1.3818e-02,  1.3620e-02,  ...,  5.6069e-03,\n",
       "         -4.2427e-04,  5.1308e-03],\n",
       "        [ 2.6955e-03,  1.4203e-03, -1.3237e-02,  ..., -2.0019e-02,\n",
       "          8.7104e-03, -5.3404e-03],\n",
       "        [-1.6731e-03,  8.2024e-03, -9.4302e-03,  ..., -9.4484e-03,\n",
       "         -1.0691e-02, -2.3718e-02]])"
      ]
     },
     "execution_count": 43,
     "metadata": {},
     "output_type": "execute_result"
    }
   ],
   "source": [
    "# sample from random normal with standard dev = 0.01\n",
    "model.fc1.weight.data.normal_(std=0.01)"
   ]
  },
  {
   "cell_type": "markdown",
   "metadata": {},
   "source": [
    "### Forward pass\n",
    "\n",
    "Now that we have a network, let's see what happens when we pass in an image."
   ]
  },
  {
   "cell_type": "code",
   "execution_count": 44,
   "metadata": {
    "collapsed": true
   },
   "outputs": [
    {
     "data": {
      "image/png": "[encoded data removed]",
      "text/plain": [
       "<Figure size 432x648 with 2 Axes>"
      ]
     },
     "metadata": {
      "image/png": {
       "height": 235,
       "width": 424
      },
      "needs_background": "light"
     },
     "output_type": "display_data"
    }
   ],
   "source": [
    "# Grab some data \n",
    "dataiter = iter(trainloader)\n",
    "images, labels = dataiter.next()\n",
    "\n",
    "# Resize images into a 1D vector, new shape is (batch size, color channels, image pixels) \n",
    "images.resize_(64, 1, 784)\n",
    "# or images.resize_(images.shape[0], 1, 784) to automatically get batch size\n",
    "\n",
    "# Forward pass through the network\n",
    "img_idx = 0\n",
    "ps = model.forward(images[img_idx,:])\n",
    "\n",
    "img = images[img_idx]\n",
    "helper.view_classify(img.view(1, 28, 28), ps)"
   ]
  },
  {
   "cell_type": "markdown",
   "metadata": {},
   "source": [
    "As you can see above, our network has basically no idea what this digit is. It's because we haven't trained it yet, all the weights are random!\n",
    "\n",
    "### Using `nn.Sequential`\n",
    "\n",
    "PyTorch provides a convenient way to build networks like this where a tensor is passed sequentially through operations, `nn.Sequential` ([documentation](https://pytorch.org/docs/master/nn.html#torch.nn.Sequential)). Using this to build the equivalent network:"
   ]
  },
  {
   "cell_type": "code",
   "execution_count": 45,
   "metadata": {
    "collapsed": true
   },
   "outputs": [
    {
     "name": "stdout",
     "output_type": "stream",
     "text": [
      "Sequential(\n",
      "  (0): Linear(in_features=784, out_features=128, bias=True)\n",
      "  (1): ReLU()\n",
      "  (2): Linear(in_features=128, out_features=64, bias=True)\n",
      "  (3): ReLU()\n",
      "  (4): Linear(in_features=64, out_features=10, bias=True)\n",
      "  (5): Softmax(dim=1)\n",
      ")\n"
     ]
    },
    {
     "data": {
      "image/png": "[encoded data removed]",
      "text/plain": [
       "<Figure size 432x648 with 2 Axes>"
      ]
     },
     "metadata": {
      "image/png": {
       "height": 235,
       "width": 424
      },
      "needs_background": "light"
     },
     "output_type": "display_data"
    }
   ],
   "source": [
    "# Hyperparameters for our network\n",
    "input_size = 784\n",
    "hidden_sizes = [128, 64]\n",
    "output_size = 10\n",
    "\n",
    "# Build a feed-forward network\n",
    "model = nn.Sequential(nn.Linear(input_size, hidden_sizes[0]),\n",
    "                      nn.ReLU(),\n",
    "                      nn.Linear(hidden_sizes[0], hidden_sizes[1]),\n",
    "                      nn.ReLU(),\n",
    "                      nn.Linear(hidden_sizes[1], output_size),\n",
    "                      nn.Softmax(dim=1))\n",
    "print(model)\n",
    "\n",
    "# Forward pass through the network and display output\n",
    "images, labels = next(iter(trainloader))\n",
    "images.resize_(images.shape[0], 1, 784)\n",
    "ps = model.forward(images[0,:])\n",
    "helper.view_classify(images[0].view(1, 28, 28), ps)"
   ]
  },
  {
   "cell_type": "markdown",
   "metadata": {},
   "source": [
    "Here our model is the same as before: 784 input units, a hidden layer with 128 units, ReLU activation, 64 unit hidden layer, another ReLU, then the output layer with 10 units, and the softmax output.\n",
    "\n",
    "The operations are available by passing in the appropriate index. For example, if you want to get first Linear operation and look at the weights, you'd use `model[0]`."
   ]
  },
  {
   "cell_type": "code",
   "execution_count": 46,
   "metadata": {
    "collapsed": true
   },
   "outputs": [
    {
     "name": "stdout",
     "output_type": "stream",
     "text": [
      "Linear(in_features=784, out_features=128, bias=True)\n"
     ]
    },
    {
     "data": {
      "text/plain": [
       "Parameter containing:\n",
       "tensor([[ 0.0320,  0.0107, -0.0155,  ..., -0.0168, -0.0153, -0.0231],\n",
       "        [ 0.0053, -0.0285,  0.0293,  ..., -0.0208, -0.0204,  0.0031],\n",
       "        [-0.0061,  0.0043, -0.0271,  ...,  0.0001, -0.0022,  0.0072],\n",
       "        ...,\n",
       "        [-0.0196, -0.0205, -0.0108,  ..., -0.0057,  0.0059,  0.0071],\n",
       "        [-0.0288,  0.0153, -0.0324,  ..., -0.0085,  0.0038, -0.0044],\n",
       "        [-0.0288, -0.0300, -0.0043,  ...,  0.0262,  0.0082, -0.0306]],\n",
       "       requires_grad=True)"
      ]
     },
     "execution_count": 46,
     "metadata": {},
     "output_type": "execute_result"
    }
   ],
   "source": [
    "print(model[0])\n",
    "model[0].weight"
   ]
  },
  {
   "cell_type": "markdown",
   "metadata": {},
   "source": [
    "You can also pass in an `OrderedDict` to name the individual layers and operations, instead of using incremental integers. Note that dictionary keys must be unique, so _each operation must have a different name_."
   ]
  },
  {
   "cell_type": "code",
   "execution_count": 47,
   "metadata": {
    "collapsed": true
   },
   "outputs": [
    {
     "data": {
      "text/plain": [
       "Sequential(\n",
       "  (fc1): Linear(in_features=784, out_features=128, bias=True)\n",
       "  (relu1): ReLU()\n",
       "  (fc2): Linear(in_features=128, out_features=64, bias=True)\n",
       "  (relu2): ReLU()\n",
       "  (output): Linear(in_features=64, out_features=10, bias=True)\n",
       "  (softmax): Softmax(dim=1)\n",
       ")"
      ]
     },
     "execution_count": 47,
     "metadata": {},
     "output_type": "execute_result"
    }
   ],
   "source": [
    "from collections import OrderedDict\n",
    "model = nn.Sequential(OrderedDict([\n",
    "                      ('fc1', nn.Linear(input_size, hidden_sizes[0])),\n",
    "                      ('relu1', nn.ReLU()),\n",
    "                      ('fc2', nn.Linear(hidden_sizes[0], hidden_sizes[1])),\n",
    "                      ('relu2', nn.ReLU()),\n",
    "                      ('output', nn.Linear(hidden_sizes[1], output_size)),\n",
    "                      ('softmax', nn.Softmax(dim=1))]))\n",
    "model"
   ]
  },
  {
   "cell_type": "markdown",
   "metadata": {},
   "source": [
    "Now you can access layers either by integer or the name"
   ]
  },
  {
   "cell_type": "code",
   "execution_count": 48,
   "metadata": {
    "collapsed": true
   },
   "outputs": [
    {
     "name": "stdout",
     "output_type": "stream",
     "text": [
      "Linear(in_features=784, out_features=128, bias=True)\n",
      "Linear(in_features=784, out_features=128, bias=True)\n"
     ]
    }
   ],
   "source": [
    "print(model[0])\n",
    "print(model.fc1)"
   ]
  },
  {
   "cell_type": "markdown",
   "metadata": {},
   "source": [
    "In the next notebook, we'll see how we can train a neural network to accuractly predict the numbers appearing in the MNIST images."
   ]
  }
 ],
 "metadata": {
  "kernelspec": {
   "display_name": "Python [default]",
   "language": "python",
   "name": "python3"
  },
  "language_info": {
   "codemirror_mode": {
    "name": "ipython",
    "version": 3
   },
   "file_extension": ".py",
   "mimetype": "text/x-python",
   "name": "python",
   "nbconvert_exporter": "python",
   "pygments_lexer": "ipython3",
   "version": "3.9.12"
  }
 },
 "nbformat": 4,
 "nbformat_minor": 2
}
